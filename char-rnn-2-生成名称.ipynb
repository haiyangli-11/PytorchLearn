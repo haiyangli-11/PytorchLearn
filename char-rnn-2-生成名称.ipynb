{
 "cells": [
  {
   "cell_type": "markdown",
   "id": "higher-giant",
   "metadata": {},
   "source": [
    "### 读取文本数据并转换编码"
   ]
  },
  {
   "cell_type": "code",
   "execution_count": 1,
   "id": "generic-ivory",
   "metadata": {
    "ExecuteTime": {
     "end_time": "2021-03-26T03:14:15.645877Z",
     "start_time": "2021-03-26T03:14:15.166209Z"
    }
   },
   "outputs": [],
   "source": [
    "import torch\n",
    "from io import open\n",
    "import os\n",
    "import unicodedata\n",
    "import string\n",
    "import torch.nn as nn\n",
    "import time\n",
    "\n",
    "\" 最后添加的 & 代表eof\"\n",
    "all_letters = string.ascii_letters + \".,:''&\"\n",
    "n_letters = len(all_letters)\n",
    "\n",
    "def unicode2ascii(s):\n",
    "    \"\"\"\n",
    "    转换unicode编码的字符为纯ascii字符串\n",
    "    \"\"\"\n",
    "    return ''.join(\n",
    "        c for c in unicodedata.normalize(\"NFD\", s)\n",
    "        if unicodedata.category(c) != 'Mn'\n",
    "        and c in all_letters\n",
    "    )\n",
    "\n",
    "def lines2ascii(file):\n",
    "    result = []\n",
    "    for line in file.readlines():\n",
    "        result.append(unicode2ascii(line).strip())\n",
    "    return result\n",
    "\n",
    "\n",
    "def read_data(root):\n",
    "    \"\"\"\n",
    "    读取名字和语言数据为一个字典\n",
    "    \"\"\"\n",
    "    result = {}\n",
    "    for file_name in os.listdir(root):\n",
    "        if str(file_name).endswith('.txt'):\n",
    "            lan = file_name.replace('.txt', '')\n",
    "            with open(os.path.join(root, file_name), encoding='UTF-8') as file:\n",
    "                result[lan] = lines2ascii(file)\n",
    "    return result\n",
    "\n",
    "\n",
    "train_data = read_data('./data/names')"
   ]
  },
  {
   "cell_type": "code",
   "execution_count": 2,
   "id": "threatened-facility",
   "metadata": {
    "ExecuteTime": {
     "end_time": "2021-03-26T03:14:15.650105Z",
     "start_time": "2021-03-26T03:14:15.647977Z"
    }
   },
   "outputs": [],
   "source": [
    "all_categories = list(train_data.keys())\n",
    "n_category = len(all_categories)"
   ]
  },
  {
   "cell_type": "code",
   "execution_count": 3,
   "id": "alive-profession",
   "metadata": {
    "ExecuteTime": {
     "end_time": "2021-03-26T03:14:15.660731Z",
     "start_time": "2021-03-26T03:14:15.652824Z"
    }
   },
   "outputs": [
    {
     "name": "stdout",
     "output_type": "stream",
     "text": [
      "tensor([0., 0., 0., 1., 0., 0., 0., 0., 0., 0., 0., 0., 0., 0., 0., 0., 0., 0.,\n",
      "        0., 0., 0., 0., 0., 0., 0., 0., 0., 0., 0., 0., 0., 0., 0., 0., 0., 0.,\n",
      "        0., 0., 0., 0., 0., 0., 0., 0., 0., 0., 0., 0., 0., 0., 0., 0., 0., 0.,\n",
      "        0., 0., 0., 0.])\n",
      "tensor([[[1., 0., 0., 0., 0., 0., 0., 0., 0., 0., 0., 0., 0., 0., 0., 0., 0.,\n",
      "          0., 0., 0., 0., 0., 0., 0., 0., 0., 0., 0., 0., 0., 0., 0., 0., 0.,\n",
      "          0., 0., 0., 0., 0., 0., 0., 0., 0., 0., 0., 0., 0., 0., 0., 0., 0.,\n",
      "          0., 0., 0., 0., 0., 0., 0.]],\n",
      "\n",
      "        [[0., 1., 0., 0., 0., 0., 0., 0., 0., 0., 0., 0., 0., 0., 0., 0., 0.,\n",
      "          0., 0., 0., 0., 0., 0., 0., 0., 0., 0., 0., 0., 0., 0., 0., 0., 0.,\n",
      "          0., 0., 0., 0., 0., 0., 0., 0., 0., 0., 0., 0., 0., 0., 0., 0., 0.,\n",
      "          0., 0., 0., 0., 0., 0., 0.]]])\n",
      "[1, 57]\n"
     ]
    }
   ],
   "source": [
    "def char2Vec(c):\n",
    "    \"\"\"\n",
    "    映射字符为向量数据，输入为字符，输出为宽度与 all_letters长度相同的向量\n",
    "    \"\"\"\n",
    "    vec = torch.zeros(len(all_letters))\n",
    "    vec[all_letters.index(c)] = 1\n",
    "    return vec\n",
    "print(char2Vec('d'))\n",
    "\n",
    "def get_train_vec(name):\n",
    "    \"\"\"\n",
    "    将字符串转换为vec表示，形状为 len*1*n_letter\n",
    "    \"\"\"\n",
    "    vec = torch.zeros(len(name), 1, len(all_letters))\n",
    "    for i in range(len(name)):\n",
    "        vec[i][0][all_letters.index(name[i])] = 1\n",
    "    return vec\n",
    "\n",
    "print(get_train_vec('ab'))\n",
    "\n",
    "def get_target_vec(name):\n",
    "    \"\"\"\n",
    "    将字符串转换为输出部分预测的字符串，即下标向后平移一个单位，直到 eof:&\n",
    "    为了适用于NLLoss损失函数，这里应该给出一个下标数组\n",
    "    \"\"\"\n",
    "    name += '&'\n",
    "    name = name[1:]\n",
    "    vec = []\n",
    "    for c in name:\n",
    "        vec.append(all_letters.index(c))\n",
    "    return vec\n",
    "\n",
    "print(get_target_vec('ab'))"
   ]
  },
  {
   "cell_type": "markdown",
   "id": "oriented-seven",
   "metadata": {},
   "source": [
    "### RNN"
   ]
  },
  {
   "cell_type": "code",
   "execution_count": 4,
   "id": "informational-webster",
   "metadata": {
    "ExecuteTime": {
     "end_time": "2021-03-26T03:14:15.667154Z",
     "start_time": "2021-03-26T03:14:15.662142Z"
    }
   },
   "outputs": [],
   "source": [
    "class Rnn(nn.Module):\n",
    "    def __init__(self, input_size, output_size, category_size, hidden_size):\n",
    "        \"\"\"\n",
    "        定义神经层使用的函数\n",
    "        \"\"\"\n",
    "        super(Rnn, self).__init__()\n",
    "        self.hidden_size = hidden_size\n",
    "        self.i2h = nn.Linear(input_size + hidden_size + category_size,\n",
    "                             hidden_size)\n",
    "        self.i2o = nn.Linear(input_size + hidden_size + category_size,\n",
    "                             output_size)\n",
    "        self.o2o = nn.Linear(output_size + hidden_size, output_size)\n",
    "        self.dropout = nn.Dropout(0.1)\n",
    "        self.softmax = nn.LogSoftmax(dim=1)\n",
    "\n",
    "    def forward(in_tensor, category_tensor, hidden_tensor):\n",
    "        \"\"\"\n",
    "        定义神经网络中的数据流处理逻辑\n",
    "        \"\"\"\n",
    "        cat_tensor = torch.cat((in_tensor, hidden_tensor, category_tensor), 1)\n",
    "        hidden = self.i2h(cat_tensor)\n",
    "        out_tensor = self.i2o(cat_tensor)\n",
    "        \n",
    "        out_tensor = torch.cat((out_tensor, hidden), 1)\n",
    "        out_tensor = self.o2o(out_tensor)\n",
    "        \n",
    "        out_tensor = self.dropout(out_tensor)\n",
    "        out_tensor = self.softmax(out_tensor)\n",
    "        return out_tensor, hidden\n",
    "    \n",
    "    def init_hidden():\n",
    "        return torch.randn(self.hidden_size)"
   ]
  },
  {
   "cell_type": "code",
   "execution_count": 5,
   "id": "regulation-message",
   "metadata": {
    "ExecuteTime": {
     "end_time": "2021-03-26T03:14:15.674555Z",
     "start_time": "2021-03-26T03:14:15.668707Z"
    }
   },
   "outputs": [
    {
     "name": "stdout",
     "output_type": "stream",
     "text": [
      "(tensor([[[0., 0., 0., 0., 0., 0., 0., 0., 0., 0., 0., 0., 0., 0., 0., 0., 0.,\n",
      "          0., 0., 0., 0., 0., 0., 0., 0., 0., 0., 0., 0., 0., 0., 0., 0., 0.,\n",
      "          0., 0., 0., 0., 0., 0., 0., 0., 0., 0., 0., 0., 0., 0., 1., 0., 0.,\n",
      "          0., 0., 0., 0., 0., 0., 0.]],\n",
      "\n",
      "        [[0., 0., 0., 0., 0., 0., 0., 0., 0., 0., 0., 0., 0., 0., 1., 0., 0.,\n",
      "          0., 0., 0., 0., 0., 0., 0., 0., 0., 0., 0., 0., 0., 0., 0., 0., 0.,\n",
      "          0., 0., 0., 0., 0., 0., 0., 0., 0., 0., 0., 0., 0., 0., 0., 0., 0.,\n",
      "          0., 0., 0., 0., 0., 0., 0.]],\n",
      "\n",
      "        [[0., 0., 0., 0., 0., 0., 0., 0., 0., 1., 0., 0., 0., 0., 0., 0., 0.,\n",
      "          0., 0., 0., 0., 0., 0., 0., 0., 0., 0., 0., 0., 0., 0., 0., 0., 0.,\n",
      "          0., 0., 0., 0., 0., 0., 0., 0., 0., 0., 0., 0., 0., 0., 0., 0., 0.,\n",
      "          0., 0., 0., 0., 0., 0., 0.]],\n",
      "\n",
      "        [[0., 0., 0., 1., 0., 0., 0., 0., 0., 0., 0., 0., 0., 0., 0., 0., 0.,\n",
      "          0., 0., 0., 0., 0., 0., 0., 0., 0., 0., 0., 0., 0., 0., 0., 0., 0.,\n",
      "          0., 0., 0., 0., 0., 0., 0., 0., 0., 0., 0., 0., 0., 0., 0., 0., 0.,\n",
      "          0., 0., 0., 0., 0., 0., 0.]],\n",
      "\n",
      "        [[1., 0., 0., 0., 0., 0., 0., 0., 0., 0., 0., 0., 0., 0., 0., 0., 0.,\n",
      "          0., 0., 0., 0., 0., 0., 0., 0., 0., 0., 0., 0., 0., 0., 0., 0., 0.,\n",
      "          0., 0., 0., 0., 0., 0., 0., 0., 0., 0., 0., 0., 0., 0., 0., 0., 0.,\n",
      "          0., 0., 0., 0., 0., 0., 0.]]]), tensor([[0., 0., 0., 0., 0., 0., 0., 0., 0., 0., 0., 0., 0., 0., 0., 0., 0., 1.]]), [14, 9, 3, 0, 57])\n"
     ]
    }
   ],
   "source": [
    "import random\n",
    "def get_category(output):\n",
    "    \"\"\"\n",
    "    获取最高概率的输出并转换为字符串\n",
    "    \"\"\"\n",
    "    top_n, top_i = output.topk(1)\n",
    "    category_i = top_i[0].item()\n",
    "    return all_categories[category_i], category_i\n",
    "\n",
    "def random_chioce(data):\n",
    "    \"\"\"\n",
    "    在列表中随机选择一个条目返回\n",
    "    \"\"\"\n",
    "    return data[random.randint(0, len(data)-1)]\n",
    "\n",
    "def get_vec_label(lan):\n",
    "    \"\"\"\n",
    "    将标签从语言转换为one hot向量\n",
    "    \"\"\"\n",
    "    vec = torch.zeros(1, n_category)\n",
    "    vec[0][all_categories.index(lan)] = 1\n",
    "    \n",
    "    return vec\n",
    "\n",
    "def get_train_examples(train_data):\n",
    "    \"\"\"\n",
    "    在训练数据中随机选择1训练条目\n",
    "    \"\"\"\n",
    "   \n",
    "    lan = random_chioce(all_categories)\n",
    "    name = random_chioce(train_data[lan])\n",
    "    lan_vec = get_vec_label(lan)\n",
    "    name_vec = get_train_vec(name)\n",
    "    target_vec = get_target_vec(name)\n",
    "    \n",
    "    return name_vec, lan_vec, target_vec\n",
    "\n",
    "print(get_train_examples(train_data))"
   ]
  },
  {
   "cell_type": "markdown",
   "id": "matched-somewhere",
   "metadata": {},
   "source": [
    "### train step"
   ]
  },
  {
   "cell_type": "code",
   "execution_count": 6,
   "id": "danish-smart",
   "metadata": {
    "ExecuteTime": {
     "end_time": "2021-03-26T03:14:15.689032Z",
     "start_time": "2021-03-26T03:14:15.676025Z"
    }
   },
   "outputs": [],
   "source": [
    "hidden_size = 1024\n",
    "rnn = Rnn(n_letters, n_letters, n_category, hidden_size)\n",
    "all_losses = []\n",
    "loss_func = nn.NLLLoss()\n",
    "lr = 0.001\n",
    "\n",
    "def train_one(train_tensor, target_tensor, category_tensor):\n",
    "    \n",
    "    train_len = train_tensor.size()[0]\n",
    "    \n",
    "    rnn.zero_grad()\n",
    "    hidden = rnn.init_hidden()\n",
    "    \n",
    "    loss = 0\n",
    "    \n",
    "    for i in range(train_len):\n",
    "        out, hidden = rnn(train_tensor[i], category_tensor, hidden)\n",
    "        cur_loss = loss_func(out, target_tensor[i])\n",
    "        loss += cur_loss\n",
    "    \n",
    "    loss.backward()\n",
    "    \n",
    "    for p in rnn.parameters():\n",
    "        if p is not None:\n",
    "            p.data.add_(-lr, p.grad.data)\n",
    "    return out, loss.item()/train_len\n",
    "    \n",
    "    "
   ]
  },
  {
   "cell_type": "code",
   "execution_count": null,
   "id": "bored-conspiracy",
   "metadata": {},
   "outputs": [],
   "source": [
    "import time\n",
    "iters = 200000\n",
    "print_every = 5000\n",
    "plot_every = 500\n",
    "\n",
    "def train_all(train_data):\n",
    "    start = time.time()\n",
    "    cur_loss = 0\n",
    "    \n",
    "    for i in range(iters):\n",
    "        name_vec, lan_vec, target_vec = get_train_examples(train_data)\n",
    "        out, loss = train_one(name_vec, target_vec, lan_vec)\n",
    "        cur_loss += loss\n",
    "        if i % plot_every == 0:\n",
    "            all_losses.append(cur_loss/plot_every)\n",
    "            cur_loss = 0\n",
    "        \n",
    "        if i % print_every == 0:\n",
    "            print(time.time() - start)\n",
    "            print(cur_loss)\n",
    "    "
   ]
  }
 ],
 "metadata": {
  "kernelspec": {
   "display_name": "Python 3",
   "language": "python",
   "name": "python3"
  },
  "language_info": {
   "codemirror_mode": {
    "name": "ipython",
    "version": 3
   },
   "file_extension": ".py",
   "mimetype": "text/x-python",
   "name": "python",
   "nbconvert_exporter": "python",
   "pygments_lexer": "ipython3",
   "version": "3.7.3"
  },
  "toc": {
   "base_numbering": 1,
   "nav_menu": {},
   "number_sections": true,
   "sideBar": true,
   "skip_h1_title": false,
   "title_cell": "Table of Contents",
   "title_sidebar": "Contents",
   "toc_cell": false,
   "toc_position": {},
   "toc_section_display": true,
   "toc_window_display": false
  },
  "varInspector": {
   "cols": {
    "lenName": 16,
    "lenType": 16,
    "lenVar": 40
   },
   "kernels_config": {
    "python": {
     "delete_cmd_postfix": "",
     "delete_cmd_prefix": "del ",
     "library": "var_list.py",
     "varRefreshCmd": "print(var_dic_list())"
    },
    "r": {
     "delete_cmd_postfix": ") ",
     "delete_cmd_prefix": "rm(",
     "library": "var_list.r",
     "varRefreshCmd": "cat(var_dic_list()) "
    }
   },
   "position": {
    "height": "333px",
    "left": "1186px",
    "right": "20px",
    "top": "111px",
    "width": "343px"
   },
   "types_to_exclude": [
    "module",
    "function",
    "builtin_function_or_method",
    "instance",
    "_Feature"
   ],
   "window_display": true
  }
 },
 "nbformat": 4,
 "nbformat_minor": 5
}
