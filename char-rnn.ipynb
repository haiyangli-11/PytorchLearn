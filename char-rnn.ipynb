{
 "cells": [
  {
   "cell_type": "markdown",
   "id": "square-plasma",
   "metadata": {},
   "source": [
    "## 简单的字符神经网络，给不同的姓氏分类"
   ]
  },
  {
   "cell_type": "markdown",
   "id": "raised-endorsement",
   "metadata": {},
   "source": [
    "###  读取数据"
   ]
  },
  {
   "cell_type": "code",
   "execution_count": 1,
   "id": "congressional-origin",
   "metadata": {
    "ExecuteTime": {
     "end_time": "2021-03-22T08:33:40.588313Z",
     "start_time": "2021-03-22T08:33:40.113768Z"
    }
   },
   "outputs": [],
   "source": [
    "import torch\n",
    "from io import open\n",
    "import os\n",
    "import unicodedata\n",
    "import string"
   ]
  },
  {
   "cell_type": "code",
   "execution_count": 2,
   "id": "according-booking",
   "metadata": {
    "ExecuteTime": {
     "end_time": "2021-03-22T08:33:40.604335Z",
     "start_time": "2021-03-22T08:33:40.590306Z"
    }
   },
   "outputs": [],
   "source": [
    "all_letters = string.ascii_letters + \".,:''\"\n",
    "n_letters = len(all_letters)"
   ]
  },
  {
   "cell_type": "code",
   "execution_count": 3,
   "id": "muslim-liberia",
   "metadata": {
    "ExecuteTime": {
     "end_time": "2021-03-22T08:33:40.620224Z",
     "start_time": "2021-03-22T08:33:40.605337Z"
    }
   },
   "outputs": [
    {
     "name": "stdout",
     "output_type": "stream",
     "text": [
      "Slusarski\n"
     ]
    }
   ],
   "source": [
    "def unicode2ascii(s):\n",
    "    \"\"\"\n",
    "    转换unicode编码的字符为纯ascii字符串\n",
    "    \"\"\"\n",
    "    return ''.join(\n",
    "        c for c in unicodedata.normalize(\"NFD\", s)\n",
    "        if unicodedata.category(c) != 'Mn'\n",
    "        and c in all_letters\n",
    "    )\n",
    "\n",
    "\n",
    "print(unicode2ascii('Ślusàrski'))"
   ]
  },
  {
   "cell_type": "code",
   "execution_count": 4,
   "id": "relevant-stadium",
   "metadata": {
    "ExecuteTime": {
     "end_time": "2021-03-22T08:33:40.683119Z",
     "start_time": "2021-03-22T08:33:40.621225Z"
    }
   },
   "outputs": [],
   "source": [
    "def lines2ascii(file):\n",
    "    result = []\n",
    "    for line in file.readlines():\n",
    "        result.append(unicode2ascii(line).strip())\n",
    "    return result\n",
    "\n",
    "\n",
    "def read_data(root):\n",
    "    \"\"\"\n",
    "    读取名字和语言数据为一个字典\n",
    "    \"\"\"\n",
    "    result = {}\n",
    "    for file_name in os.listdir(root):\n",
    "        if str(file_name).endswith('.txt'):\n",
    "            lan = file_name.replace('.txt', '')\n",
    "            with open(os.path.join(root, file_name), encoding='UTF-8') as file:\n",
    "                result[lan] = lines2ascii(file)\n",
    "    return result\n",
    "\n",
    "\n",
    "data = read_data('./data/names')"
   ]
  },
  {
   "cell_type": "code",
   "execution_count": 5,
   "id": "hybrid-young",
   "metadata": {
    "ExecuteTime": {
     "end_time": "2021-03-22T08:33:40.699040Z",
     "start_time": "2021-03-22T08:33:40.684009Z"
    }
   },
   "outputs": [],
   "source": [
    "all_categories = list(data.keys())\n",
    "n_category = len(all_categories)"
   ]
  },
  {
   "cell_type": "markdown",
   "id": "quiet-biology",
   "metadata": {},
   "source": [
    "### 将字符数据映射为向量数据，使用one hot向量表示"
   ]
  },
  {
   "cell_type": "code",
   "execution_count": 6,
   "id": "threatened-married",
   "metadata": {
    "ExecuteTime": {
     "end_time": "2021-03-22T08:33:40.715034Z",
     "start_time": "2021-03-22T08:33:40.700034Z"
    }
   },
   "outputs": [
    {
     "name": "stdout",
     "output_type": "stream",
     "text": [
      "tensor([0., 0., 0., 1., 0., 0., 0., 0., 0., 0., 0., 0., 0., 0., 0., 0., 0., 0.,\n",
      "        0., 0., 0., 0., 0., 0., 0., 0., 0., 0., 0., 0., 0., 0., 0., 0., 0., 0.,\n",
      "        0., 0., 0., 0., 0., 0., 0., 0., 0., 0., 0., 0., 0., 0., 0., 0., 0., 0.,\n",
      "        0., 0., 0.])\n"
     ]
    }
   ],
   "source": [
    "def char2Vec(c):\n",
    "    \"\"\"\n",
    "    映射字符为向量数据，输入为字符，输出为宽度与 all_letters长度相同的向量\n",
    "    \"\"\"\n",
    "    vec = torch.zeros(len(all_letters))\n",
    "    vec[all_letters.index(c)] = 1\n",
    "    return vec\n",
    "print(char2Vec('d'))"
   ]
  },
  {
   "cell_type": "code",
   "execution_count": 7,
   "id": "marine-seattle",
   "metadata": {
    "ExecuteTime": {
     "end_time": "2021-03-22T08:33:40.731031Z",
     "start_time": "2021-03-22T08:33:40.717010Z"
    }
   },
   "outputs": [
    {
     "name": "stdout",
     "output_type": "stream",
     "text": [
      "tensor([[[1., 0., 0., 0., 0., 0., 0., 0., 0., 0., 0., 0., 0., 0., 0., 0., 0.,\n",
      "          0., 0., 0., 0., 0., 0., 0., 0., 0., 0., 0., 0., 0., 0., 0., 0., 0.,\n",
      "          0., 0., 0., 0., 0., 0., 0., 0., 0., 0., 0., 0., 0., 0., 0., 0., 0.,\n",
      "          0., 0., 0., 0., 0., 0.]],\n",
      "\n",
      "        [[0., 1., 0., 0., 0., 0., 0., 0., 0., 0., 0., 0., 0., 0., 0., 0., 0.,\n",
      "          0., 0., 0., 0., 0., 0., 0., 0., 0., 0., 0., 0., 0., 0., 0., 0., 0.,\n",
      "          0., 0., 0., 0., 0., 0., 0., 0., 0., 0., 0., 0., 0., 0., 0., 0., 0.,\n",
      "          0., 0., 0., 0., 0., 0.]]])\n"
     ]
    }
   ],
   "source": [
    "def str2Vec(name):\n",
    "    \"\"\"\n",
    "    将字符串转换为vec表示，形状为 len*1*n_letter\n",
    "    \"\"\"\n",
    "    vec = torch.zeros(len(name), 1, len(all_letters))\n",
    "    for i in range(len(name)):\n",
    "        vec[i][0][all_letters.index(name[i])] = 1\n",
    "    return vec\n",
    "\n",
    "\n",
    "print(str2Vec('ab'))"
   ]
  },
  {
   "cell_type": "markdown",
   "id": "virgin-connecticut",
   "metadata": {},
   "source": [
    "### 构建RNN"
   ]
  },
  {
   "cell_type": "code",
   "execution_count": 8,
   "id": "functional-sister",
   "metadata": {
    "ExecuteTime": {
     "end_time": "2021-03-22T08:33:40.747010Z",
     "start_time": "2021-03-22T08:33:40.732010Z"
    }
   },
   "outputs": [],
   "source": [
    "import torch.nn as nn"
   ]
  },
  {
   "cell_type": "code",
   "execution_count": 9,
   "id": "daily-leonard",
   "metadata": {
    "ExecuteTime": {
     "end_time": "2021-03-22T08:33:40.763010Z",
     "start_time": "2021-03-22T08:33:40.748010Z"
    }
   },
   "outputs": [],
   "source": [
    "class Rnn(nn.Module):\n",
    "    def __init__(self, input_size, hidden_size, output_size):\n",
    "        \"\"\"\n",
    "        自定义rnn运行所需的函数\n",
    "        \"\"\"\n",
    "        super(Rnn, self).__init__()\n",
    "\n",
    "        self.hidden_size = hidden_size\n",
    "\n",
    "        self.i2h = nn.Linear(input_size + hidden_size, hidden_size)\n",
    "        self.i2o = nn.Linear(input_size + hidden_size, output_size)\n",
    "\n",
    "        self.softmax = nn.Softmax(dim=1)\n",
    "\n",
    "    def forward(self, data, hidden):\n",
    "        \"\"\"\n",
    "        rnn运行的数据流，如何使用上述函数\n",
    "        \"\"\"\n",
    "        combine = torch.cat((data, hidden), dim=1)\n",
    "        new_hidden = self.i2h(combine)\n",
    "        output = self.i2o(combine)\n",
    "        output = self.softmax(output)\n",
    "        return output, hidden\n",
    "\n",
    "    def init_hidden():\n",
    "        self.hidden = torch.randn(1, hidden_size)\n",
    "\n",
    "n_hidden = 1024\n",
    "rnn = Rnn(n_letters, n_hidden, n_category)"
   ]
  },
  {
   "cell_type": "markdown",
   "id": "above-cargo",
   "metadata": {},
   "source": [
    "> 测试rnn运行单步\n"
   ]
  },
  {
   "cell_type": "code",
   "execution_count": 10,
   "id": "peripheral-tunisia",
   "metadata": {
    "ExecuteTime": {
     "end_time": "2021-03-22T08:33:40.779008Z",
     "start_time": "2021-03-22T08:33:40.764010Z"
    }
   },
   "outputs": [
    {
     "name": "stdout",
     "output_type": "stream",
     "text": [
      "tensor([[0.0909, 0.0207, 0.0207, 0.0906, 0.0294, 0.0796, 0.0682, 0.0196, 0.0448,\n",
      "         0.1109, 0.1063, 0.0388, 0.0581, 0.0495, 0.0426, 0.0499, 0.0326, 0.0468]],\n",
      "       grad_fn=<SoftmaxBackward>)\n"
     ]
    }
   ],
   "source": [
    "hidden = torch.randn(1, n_hidden)\n",
    "name = \"alex\"\n",
    "data = str2Vec(name)\n",
    "output, new_hidden = rnn(data[0], hidden)\n",
    "print(output)"
   ]
  },
  {
   "cell_type": "markdown",
   "id": "industrial-fault",
   "metadata": {},
   "source": [
    "###  训练网络"
   ]
  },
  {
   "cell_type": "code",
   "execution_count": null,
   "id": "increasing-technician",
   "metadata": {},
   "outputs": [],
   "source": [
    "criterion = nn.NLLLoss()\n",
    "lr = 0.002\n",
    "def train():"
   ]
  }
 ],
 "metadata": {
  "kernelspec": {
   "display_name": "Python 3",
   "language": "python",
   "name": "python3"
  },
  "language_info": {
   "codemirror_mode": {
    "name": "ipython",
    "version": 3
   },
   "file_extension": ".py",
   "mimetype": "text/x-python",
   "name": "python",
   "nbconvert_exporter": "python",
   "pygments_lexer": "ipython3",
   "version": "3.7.9"
  },
  "toc": {
   "base_numbering": 1,
   "nav_menu": {},
   "number_sections": true,
   "sideBar": true,
   "skip_h1_title": false,
   "title_cell": "Table of Contents",
   "title_sidebar": "Contents",
   "toc_cell": false,
   "toc_position": {},
   "toc_section_display": true,
   "toc_window_display": false
  },
  "varInspector": {
   "cols": {
    "lenName": 16,
    "lenType": 16,
    "lenVar": 40
   },
   "kernels_config": {
    "python": {
     "delete_cmd_postfix": "",
     "delete_cmd_prefix": "del ",
     "library": "var_list.py",
     "varRefreshCmd": "print(var_dic_list())"
    },
    "r": {
     "delete_cmd_postfix": ") ",
     "delete_cmd_prefix": "rm(",
     "library": "var_list.r",
     "varRefreshCmd": "cat(var_dic_list()) "
    }
   },
   "position": {
    "height": "270.5px",
    "left": "1553px",
    "right": "20px",
    "top": "130px",
    "width": "350px"
   },
   "types_to_exclude": [
    "module",
    "function",
    "builtin_function_or_method",
    "instance",
    "_Feature"
   ],
   "window_display": true
  }
 },
 "nbformat": 4,
 "nbformat_minor": 5
}
