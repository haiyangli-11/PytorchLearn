{
 "cells": [
  {
   "cell_type": "markdown",
   "id": "square-plasma",
   "metadata": {},
   "source": [
    "## 简单的字符神经网络，给不同的姓氏分类"
   ]
  },
  {
   "cell_type": "markdown",
   "id": "raised-endorsement",
   "metadata": {},
   "source": [
    "###  读取数据"
   ]
  },
  {
   "cell_type": "code",
   "execution_count": 1,
   "id": "congressional-origin",
   "metadata": {
    "ExecuteTime": {
     "end_time": "2021-03-24T11:27:32.584066Z",
     "start_time": "2021-03-24T11:27:32.106598Z"
    }
   },
   "outputs": [],
   "source": [
    "import torch\n",
    "from io import open\n",
    "import os\n",
    "import unicodedata\n",
    "import string"
   ]
  },
  {
   "cell_type": "code",
   "execution_count": 2,
   "id": "according-booking",
   "metadata": {
    "ExecuteTime": {
     "end_time": "2021-03-24T11:27:32.600057Z",
     "start_time": "2021-03-24T11:27:32.585065Z"
    }
   },
   "outputs": [],
   "source": [
    "all_letters = string.ascii_letters + \".,:''\"\n",
    "n_letters = len(all_letters)"
   ]
  },
  {
   "cell_type": "code",
   "execution_count": 3,
   "id": "muslim-liberia",
   "metadata": {
    "ExecuteTime": {
     "end_time": "2021-03-24T11:27:32.616057Z",
     "start_time": "2021-03-24T11:27:32.601058Z"
    }
   },
   "outputs": [
    {
     "name": "stdout",
     "output_type": "stream",
     "text": [
      "Slusarski\n"
     ]
    }
   ],
   "source": [
    "def unicode2ascii(s):\n",
    "    \"\"\"\n",
    "    转换unicode编码的字符为纯ascii字符串\n",
    "    \"\"\"\n",
    "    return ''.join(\n",
    "        c for c in unicodedata.normalize(\"NFD\", s)\n",
    "        if unicodedata.category(c) != 'Mn'\n",
    "        and c in all_letters\n",
    "    )\n",
    "\n",
    "\n",
    "print(unicode2ascii('Ślusàrski'))"
   ]
  },
  {
   "cell_type": "code",
   "execution_count": 4,
   "id": "relevant-stadium",
   "metadata": {
    "ExecuteTime": {
     "end_time": "2021-03-24T11:27:32.680065Z",
     "start_time": "2021-03-24T11:27:32.617080Z"
    }
   },
   "outputs": [],
   "source": [
    "def lines2ascii(file):\n",
    "    result = []\n",
    "    for line in file.readlines():\n",
    "        result.append(unicode2ascii(line).strip())\n",
    "    return result\n",
    "\n",
    "\n",
    "def read_data(root):\n",
    "    \"\"\"\n",
    "    读取名字和语言数据为一个字典\n",
    "    \"\"\"\n",
    "    result = {}\n",
    "    for file_name in os.listdir(root):\n",
    "        if str(file_name).endswith('.txt'):\n",
    "            lan = file_name.replace('.txt', '')\n",
    "            with open(os.path.join(root, file_name), encoding='UTF-8') as file:\n",
    "                result[lan] = lines2ascii(file)\n",
    "    return result\n",
    "\n",
    "\n",
    "data = read_data('./data/names')"
   ]
  },
  {
   "cell_type": "code",
   "execution_count": 5,
   "id": "hybrid-young",
   "metadata": {
    "ExecuteTime": {
     "end_time": "2021-03-24T11:27:32.696059Z",
     "start_time": "2021-03-24T11:27:32.681061Z"
    }
   },
   "outputs": [],
   "source": [
    "all_categories = list(data.keys())\n",
    "n_category = len(all_categories)"
   ]
  },
  {
   "cell_type": "markdown",
   "id": "quiet-biology",
   "metadata": {},
   "source": [
    "### 将字符数据映射为向量数据，使用one hot向量表示"
   ]
  },
  {
   "cell_type": "code",
   "execution_count": 6,
   "id": "threatened-married",
   "metadata": {
    "ExecuteTime": {
     "end_time": "2021-03-24T11:27:32.712066Z",
     "start_time": "2021-03-24T11:27:32.697069Z"
    }
   },
   "outputs": [
    {
     "name": "stdout",
     "output_type": "stream",
     "text": [
      "tensor([0., 0., 0., 1., 0., 0., 0., 0., 0., 0., 0., 0., 0., 0., 0., 0., 0., 0.,\n",
      "        0., 0., 0., 0., 0., 0., 0., 0., 0., 0., 0., 0., 0., 0., 0., 0., 0., 0.,\n",
      "        0., 0., 0., 0., 0., 0., 0., 0., 0., 0., 0., 0., 0., 0., 0., 0., 0., 0.,\n",
      "        0., 0., 0.])\n"
     ]
    }
   ],
   "source": [
    "def char2Vec(c):\n",
    "    \"\"\"\n",
    "    映射字符为向量数据，输入为字符，输出为宽度与 all_letters长度相同的向量\n",
    "    \"\"\"\n",
    "    vec = torch.zeros(len(all_letters))\n",
    "    vec[all_letters.index(c)] = 1\n",
    "    return vec\n",
    "print(char2Vec('d'))"
   ]
  },
  {
   "cell_type": "code",
   "execution_count": 7,
   "id": "marine-seattle",
   "metadata": {
    "ExecuteTime": {
     "end_time": "2021-03-24T11:27:32.728062Z",
     "start_time": "2021-03-24T11:27:32.714032Z"
    }
   },
   "outputs": [
    {
     "name": "stdout",
     "output_type": "stream",
     "text": [
      "tensor([[[1., 0., 0., 0., 0., 0., 0., 0., 0., 0., 0., 0., 0., 0., 0., 0., 0.,\n",
      "          0., 0., 0., 0., 0., 0., 0., 0., 0., 0., 0., 0., 0., 0., 0., 0., 0.,\n",
      "          0., 0., 0., 0., 0., 0., 0., 0., 0., 0., 0., 0., 0., 0., 0., 0., 0.,\n",
      "          0., 0., 0., 0., 0., 0.]],\n",
      "\n",
      "        [[0., 1., 0., 0., 0., 0., 0., 0., 0., 0., 0., 0., 0., 0., 0., 0., 0.,\n",
      "          0., 0., 0., 0., 0., 0., 0., 0., 0., 0., 0., 0., 0., 0., 0., 0., 0.,\n",
      "          0., 0., 0., 0., 0., 0., 0., 0., 0., 0., 0., 0., 0., 0., 0., 0., 0.,\n",
      "          0., 0., 0., 0., 0., 0.]]])\n"
     ]
    }
   ],
   "source": [
    "def str2Vec(name):\n",
    "    \"\"\"\n",
    "    将字符串转换为vec表示，形状为 len*1*n_letter\n",
    "    \"\"\"\n",
    "    vec = torch.zeros(len(name), 1, len(all_letters))\n",
    "    for i in range(len(name)):\n",
    "        vec[i][0][all_letters.index(name[i])] = 1\n",
    "    return vec\n",
    "\n",
    "\n",
    "print(str2Vec('ab'))"
   ]
  },
  {
   "cell_type": "markdown",
   "id": "virgin-connecticut",
   "metadata": {},
   "source": [
    "### 构建RNN"
   ]
  },
  {
   "cell_type": "code",
   "execution_count": 8,
   "id": "functional-sister",
   "metadata": {
    "ExecuteTime": {
     "end_time": "2021-03-24T11:27:32.744059Z",
     "start_time": "2021-03-24T11:27:32.729031Z"
    }
   },
   "outputs": [],
   "source": [
    "import torch.nn as nn"
   ]
  },
  {
   "cell_type": "code",
   "execution_count": 9,
   "id": "daily-leonard",
   "metadata": {
    "ExecuteTime": {
     "end_time": "2021-03-24T11:27:33.931713Z",
     "start_time": "2021-03-24T11:27:32.745009Z"
    }
   },
   "outputs": [],
   "source": [
    "class Rnn(nn.Module):\n",
    "    def __init__(self, input_size, hidden_size, output_size):\n",
    "        \"\"\"\n",
    "        自定义rnn运行所需的函数\n",
    "        \"\"\"\n",
    "        super(Rnn, self).__init__()\n",
    "\n",
    "        self.hidden_size = hidden_size\n",
    "\n",
    "        self.i2h = nn.Linear(input_size + hidden_size, hidden_size)\n",
    "        self.i2o = nn.Linear(input_size + hidden_size, output_size)\n",
    "\n",
    "        self.softmax = nn.Softmax(dim=1)\n",
    "\n",
    "    def forward(self, data, hidden):\n",
    "        \"\"\"\n",
    "        rnn运行的数据流，如何使用上述函数\n",
    "        \"\"\"\n",
    "        combine = torch.cat((data, hidden), 1)\n",
    "        new_hidden = self.i2h(combine)\n",
    "        output = self.i2o(combine)\n",
    "        output = self.softmax(output)\n",
    "        return output, hidden\n",
    "\n",
    "    def init_hidden(self):\n",
    "        return torch.randn(1, self.hidden_size)\n",
    "\n",
    "\n",
    "n_hidden = 1024\n",
    "rnn = Rnn(n_letters, n_hidden, n_category).cuda()"
   ]
  },
  {
   "cell_type": "markdown",
   "id": "above-cargo",
   "metadata": {},
   "source": [
    "> 测试rnn运行单步\n"
   ]
  },
  {
   "cell_type": "code",
   "execution_count": 10,
   "id": "peripheral-tunisia",
   "metadata": {
    "ExecuteTime": {
     "end_time": "2021-03-24T11:27:34.123715Z",
     "start_time": "2021-03-24T11:27:33.932745Z"
    }
   },
   "outputs": [
    {
     "name": "stdout",
     "output_type": "stream",
     "text": [
      "tensor([[0.0238, 0.1010, 0.0646, 0.0419, 0.0472, 0.0306, 0.1092, 0.0207, 0.0529,\n",
      "         0.0483, 0.0778, 0.0928, 0.0216, 0.0468, 0.0646, 0.0418, 0.0529, 0.0614]],\n",
      "       device='cuda:0', grad_fn=<SoftmaxBackward>)\n"
     ]
    }
   ],
   "source": [
    "hidden = torch.randn(1, n_hidden)\n",
    "name = \"alex\"\n",
    "vec_name = str2Vec(name)\n",
    "output, new_hidden = rnn(vec_name[0].cuda(), hidden.cuda())\n",
    "print(output)"
   ]
  },
  {
   "cell_type": "markdown",
   "id": "industrial-fault",
   "metadata": {},
   "source": [
    "###  训练网络"
   ]
  },
  {
   "cell_type": "code",
   "execution_count": 11,
   "id": "increasing-technician",
   "metadata": {
    "ExecuteTime": {
     "end_time": "2021-03-24T11:27:34.139712Z",
     "start_time": "2021-03-24T11:27:34.124741Z"
    }
   },
   "outputs": [
    {
     "name": "stdout",
     "output_type": "stream",
     "text": [
      "('German', 6)\n"
     ]
    }
   ],
   "source": [
    "def get_category(output):\n",
    "    \"\"\"\n",
    "    获取最高概率的输出并转换为字符串\n",
    "    \"\"\"\n",
    "    top_n, top_i = output.topk(1)\n",
    "    category_i = top_i[0].item()\n",
    "    return all_categories[category_i], category_i\n",
    "\n",
    "\n",
    "print(get_category(output))"
   ]
  },
  {
   "cell_type": "code",
   "execution_count": 12,
   "id": "deadly-breeding",
   "metadata": {
    "ExecuteTime": {
     "end_time": "2021-03-24T11:27:34.155737Z",
     "start_time": "2021-03-24T11:27:34.140713Z"
    }
   },
   "outputs": [],
   "source": [
    "import random"
   ]
  },
  {
   "cell_type": "code",
   "execution_count": 13,
   "id": "little-berry",
   "metadata": {
    "ExecuteTime": {
     "end_time": "2021-03-24T11:27:34.171738Z",
     "start_time": "2021-03-24T11:27:34.156745Z"
    }
   },
   "outputs": [
    {
     "name": "stdout",
     "output_type": "stream",
     "text": [
      "(tensor([[[0., 0., 0., 0., 0., 0., 0., 0., 0., 0., 0., 0., 0., 0., 0., 0., 0.,\n",
      "          0., 0., 0., 0., 0., 0., 0., 0., 0., 0., 0., 0., 0., 0., 0., 0., 0.,\n",
      "          0., 0., 1., 0., 0., 0., 0., 0., 0., 0., 0., 0., 0., 0., 0., 0., 0.,\n",
      "          0., 0., 0., 0., 0., 0.]],\n",
      "\n",
      "        [[0., 0., 0., 0., 0., 0., 0., 0., 0., 0., 0., 0., 0., 0., 1., 0., 0.,\n",
      "          0., 0., 0., 0., 0., 0., 0., 0., 0., 0., 0., 0., 0., 0., 0., 0., 0.,\n",
      "          0., 0., 0., 0., 0., 0., 0., 0., 0., 0., 0., 0., 0., 0., 0., 0., 0.,\n",
      "          0., 0., 0., 0., 0., 0.]],\n",
      "\n",
      "        [[0., 0., 0., 0., 0., 0., 0., 1., 0., 0., 0., 0., 0., 0., 0., 0., 0.,\n",
      "          0., 0., 0., 0., 0., 0., 0., 0., 0., 0., 0., 0., 0., 0., 0., 0., 0.,\n",
      "          0., 0., 0., 0., 0., 0., 0., 0., 0., 0., 0., 0., 0., 0., 0., 0., 0.,\n",
      "          0., 0., 0., 0., 0., 0.]],\n",
      "\n",
      "        [[0., 0., 0., 0., 0., 0., 0., 0., 0., 0., 0., 1., 0., 0., 0., 0., 0.,\n",
      "          0., 0., 0., 0., 0., 0., 0., 0., 0., 0., 0., 0., 0., 0., 0., 0., 0.,\n",
      "          0., 0., 0., 0., 0., 0., 0., 0., 0., 0., 0., 0., 0., 0., 0., 0., 0.,\n",
      "          0., 0., 0., 0., 0., 0.]]]), tensor([6]))\n"
     ]
    }
   ],
   "source": [
    "def random_chioce(data):\n",
    "    \"\"\"\n",
    "    在列表中随机选择一个条目返回\n",
    "    \"\"\"\n",
    "    return data[random.randint(0, len(data)-1)]\n",
    "\n",
    "\n",
    "def get_vec_label(lan):\n",
    "    \"\"\"\n",
    "    将标签从语言转换为one hot向量\n",
    "    \"\"\"\n",
    "    vec = torch.tensor([all_categories.index(lan)], dtype=torch.long)\n",
    "    return vec\n",
    "\n",
    "\n",
    "def get_train_examples(train_data):\n",
    "    \"\"\"\n",
    "    在训练数据中随机选择1训练条目\n",
    "    \"\"\"\n",
    "\n",
    "    lan = random_chioce(all_categories)\n",
    "    name = random_chioce(train_data[lan])\n",
    "    lan_vec = get_vec_label(lan)\n",
    "    name_vec = str2Vec(name)\n",
    "\n",
    "    return name_vec, lan_vec\n",
    "\n",
    "\n",
    "print(get_train_examples(data))"
   ]
  },
  {
   "cell_type": "code",
   "execution_count": 14,
   "id": "gentle-appraisal",
   "metadata": {
    "ExecuteTime": {
     "end_time": "2021-03-24T11:27:34.186892Z",
     "start_time": "2021-03-24T11:27:34.172740Z"
    }
   },
   "outputs": [],
   "source": [
    "loss_func = nn.NLLLoss()\n",
    "lr = 0.001\n",
    "\n",
    "\n",
    "def train_step(name_vec, lan_vec):\n",
    "    \"\"\"\n",
    "    单步训练，连续输入一串字符，更新梯度，并计算损失\n",
    "    \"\"\"\n",
    "    hidden = rnn.init_hidden().cuda()\n",
    "    \"梯度清零\"\n",
    "    rnn.zero_grad()\n",
    "\n",
    "    \"调用rnn预测\"\n",
    "    for i in range(name_vec.size()[0]):\n",
    "        output, hidden = rnn(name_vec[i], hidden)\n",
    "\n",
    "    \"计算损失\"\n",
    "    loss = loss_func(output, lan_vec)\n",
    "    \"从损失函数开始反向传播梯度\"\n",
    "    loss.backward()\n",
    "\n",
    "    \"将rnn中的参数手动梯度下降\"\n",
    "\n",
    "    for p in rnn.parameters():\n",
    "        if p.grad is not None:\n",
    "            p.data.add_(-lr, p.grad.data)\n",
    "\n",
    "    return output, loss.item()"
   ]
  },
  {
   "cell_type": "code",
   "execution_count": null,
   "id": "portuguese-guard",
   "metadata": {
    "ExecuteTime": {
     "start_time": "2021-03-24T11:27:32.103Z"
    }
   },
   "outputs": [
    {
     "name": "stdout",
     "output_type": "stream",
     "text": [
      "0.005002021789550781\n",
      "-0.027097128331661224\n",
      "   \n"
     ]
    },
    {
     "name": "stderr",
     "output_type": "stream",
     "text": [
      "c:\\users\\lihaiyang\\.conda\\envs\\pytorch\\lib\\site-packages\\ipykernel_launcher.py:26: UserWarning: This overload of add_ is deprecated:\n",
      "\tadd_(Number alpha, Tensor other)\n",
      "Consider using one of the following signatures instead:\n",
      "\tadd_(Tensor other, *, Number alpha) (Triggered internally at  ..\\torch\\csrc\\utils\\python_arg_parser.cpp:882.)\n"
     ]
    },
    {
     "name": "stdout",
     "output_type": "stream",
     "text": [
      "11.072862386703491\n",
      "-0.04156447574496269\n",
      "   \n",
      "22.382862091064453\n",
      "-0.03699120879173279\n",
      "   \n",
      "33.604862213134766\n",
      "-0.08055519312620163\n",
      "   \n",
      "44.87786245346069\n",
      "-0.014233062975108624\n",
      "   \n",
      "56.07986235618591\n",
      "-0.05075738579034805\n",
      "   \n",
      "67.4078619480133\n",
      "-0.05364670604467392\n",
      "   \n",
      "79.06386256217957\n",
      "-0.02655201032757759\n",
      "   \n",
      "90.31086277961731\n",
      "-0.07197605818510056\n",
      "   \n",
      "101.97886300086975\n",
      "-0.022878160700201988\n",
      "   \n",
      "113.30786275863647\n",
      "-0.04617423564195633\n",
      "   \n",
      "124.66286206245422\n",
      "-0.029771044850349426\n",
      "   \n",
      "136.1118619441986\n",
      "-0.019967248663306236\n",
      "   \n",
      "147.34486198425293\n",
      "-0.038532987236976624\n",
      "   \n",
      "159.1305160522461\n",
      "-0.02304541878402233\n",
      "   \n",
      "170.39151692390442\n",
      "-0.029797576367855072\n",
      "   \n",
      "181.71751713752747\n",
      "-0.06152763217687607\n",
      "   \n",
      "193.16251635551453\n",
      "-0.07196660339832306\n",
      "   \n",
      "204.65251684188843\n",
      "-0.02809833735227585\n",
      "   \n",
      "216.00151586532593\n",
      "-0.03534039482474327\n",
      "   \n",
      "227.2915165424347\n",
      "-0.03030012734234333\n",
      "   \n",
      "238.85451579093933\n",
      "-0.06169125437736511\n",
      "   \n",
      "250.26251673698425\n",
      "-0.03010309860110283\n",
      "   \n",
      "262.1205167770386\n",
      "-0.09700215607881546\n",
      "   \n",
      "273.6035158634186\n",
      "-0.1006210669875145\n",
      "   \n",
      "284.9115161895752\n",
      "-0.08486931025981903\n",
      "   \n",
      "295.9655168056488\n",
      "-0.08388999849557877\n",
      "   \n",
      "307.2815189361572\n",
      "-0.1552281528711319\n",
      "   \n",
      "318.46551632881165\n",
      "-0.08371552079916\n",
      "   \n",
      "329.603515625\n",
      "-0.034524790942668915\n",
      "   \n",
      "341.1105160713196\n",
      "-0.08934933692216873\n",
      "   \n",
      "352.77051734924316\n",
      "-0.01910451427102089\n",
      "   \n",
      "364.2434000968933\n",
      "-0.03963985666632652\n",
      "   \n",
      "375.6304008960724\n",
      "-0.050072211772203445\n",
      "   \n",
      "386.9324004650116\n",
      "-0.05477527901530266\n",
      "   \n",
      "398.3944265842438\n",
      "-0.03842870518565178\n",
      "   \n",
      "409.40743374824524\n",
      "-0.05437168851494789\n",
      "   \n",
      "420.5064251422882\n",
      "-0.02634977549314499\n",
      "   \n",
      "431.64223170280457\n",
      "-0.04586433619260788\n",
      "   \n"
     ]
    }
   ],
   "source": [
    "import time\n",
    "\n",
    "all_losses = []\n",
    "\n",
    "\n",
    "def train():\n",
    "    \"\"\"\n",
    "    训练rnn，并保存loss\n",
    "    \"\"\"\n",
    "    n_iters = 200000\n",
    "    plot_every = 1000\n",
    "    print_every = 5000\n",
    "\n",
    "    cur_loss = 0\n",
    "    start_time = time.time()\n",
    "    for i in range(n_iters):\n",
    "        \"获取数据并预测，计算loss， 梯度下降\"\n",
    "        name_vec, lan_vec = get_train_examples(data)\n",
    "        output, loss = train_step(name_vec.cuda(), lan_vec.cuda())\n",
    "        cur_loss += loss\n",
    "        \"打印\"\n",
    "        if i % print_every == 0:\n",
    "            print(time.time() - start_time)\n",
    "            print(loss)\n",
    "            print(\"   \")\n",
    "        if i % plot_every == 0:\n",
    "            all_losses.append(cur_loss / plot_every)\n",
    "            cur_loss = 0\n",
    "\n",
    "\n",
    "train()"
   ]
  },
  {
   "cell_type": "code",
   "execution_count": null,
   "id": "willing-vegetation",
   "metadata": {
    "ExecuteTime": {
     "start_time": "2021-03-24T11:27:32.104Z"
    }
   },
   "outputs": [],
   "source": [
    "import matplotlib.pyplot as plt\n",
    "\n",
    "plt.figure()\n",
    "plt.plot(all_losses)"
   ]
  },
  {
   "cell_type": "code",
   "execution_count": null,
   "id": "separated-massachusetts",
   "metadata": {},
   "outputs": [],
   "source": []
  }
 ],
 "metadata": {
  "kernelspec": {
   "display_name": "Python 3",
   "language": "python",
   "name": "python3"
  },
  "language_info": {
   "codemirror_mode": {
    "name": "ipython",
    "version": 3
   },
   "file_extension": ".py",
   "mimetype": "text/x-python",
   "name": "python",
   "nbconvert_exporter": "python",
   "pygments_lexer": "ipython3",
   "version": "3.7.9"
  },
  "toc": {
   "base_numbering": 1,
   "nav_menu": {},
   "number_sections": true,
   "sideBar": true,
   "skip_h1_title": false,
   "title_cell": "Table of Contents",
   "title_sidebar": "Contents",
   "toc_cell": false,
   "toc_position": {},
   "toc_section_display": true,
   "toc_window_display": false
  },
  "varInspector": {
   "cols": {
    "lenName": 16,
    "lenType": 16,
    "lenVar": 40
   },
   "kernels_config": {
    "python": {
     "delete_cmd_postfix": "",
     "delete_cmd_prefix": "del ",
     "library": "var_list.py",
     "varRefreshCmd": "print(var_dic_list())"
    },
    "r": {
     "delete_cmd_postfix": ") ",
     "delete_cmd_prefix": "rm(",
     "library": "var_list.r",
     "varRefreshCmd": "cat(var_dic_list()) "
    }
   },
   "position": {
    "height": "270.5px",
    "left": "1553px",
    "right": "20px",
    "top": "130px",
    "width": "350px"
   },
   "types_to_exclude": [
    "module",
    "function",
    "builtin_function_or_method",
    "instance",
    "_Feature"
   ],
   "window_display": true
  }
 },
 "nbformat": 4,
 "nbformat_minor": 5
}
