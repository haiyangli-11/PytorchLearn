{
 "cells": [
  {
   "cell_type": "markdown",
   "id": "square-plasma",
   "metadata": {},
   "source": [
    "## 简单的字符神经网络，给不同的姓氏分类"
   ]
  },
  {
   "cell_type": "markdown",
   "id": "raised-endorsement",
   "metadata": {},
   "source": [
    "###  读取数据"
   ]
  },
  {
   "cell_type": "code",
   "execution_count": 1,
   "id": "congressional-origin",
   "metadata": {
    "ExecuteTime": {
     "end_time": "2021-03-24T09:05:47.220316Z",
     "start_time": "2021-03-24T09:05:46.931872Z"
    }
   },
   "outputs": [],
   "source": [
    "import torch\n",
    "from io import open\n",
    "import os\n",
    "import unicodedata\n",
    "import string"
   ]
  },
  {
   "cell_type": "code",
   "execution_count": 2,
   "id": "according-booking",
   "metadata": {
    "ExecuteTime": {
     "end_time": "2021-03-24T09:05:47.225916Z",
     "start_time": "2021-03-24T09:05:47.223666Z"
    }
   },
   "outputs": [],
   "source": [
    "all_letters = string.ascii_letters + \".,:''\"\n",
    "n_letters = len(all_letters)"
   ]
  },
  {
   "cell_type": "code",
   "execution_count": 3,
   "id": "muslim-liberia",
   "metadata": {
    "ExecuteTime": {
     "end_time": "2021-03-24T09:05:47.231145Z",
     "start_time": "2021-03-24T09:05:47.227920Z"
    }
   },
   "outputs": [
    {
     "name": "stdout",
     "output_type": "stream",
     "text": [
      "Slusarski\n"
     ]
    }
   ],
   "source": [
    "def unicode2ascii(s):\n",
    "    \"\"\"\n",
    "    转换unicode编码的字符为纯ascii字符串\n",
    "    \"\"\"\n",
    "    return ''.join(\n",
    "        c for c in unicodedata.normalize(\"NFD\", s)\n",
    "        if unicodedata.category(c) != 'Mn'\n",
    "        and c in all_letters\n",
    "    )\n",
    "\n",
    "\n",
    "print(unicode2ascii('Ślusàrski'))"
   ]
  },
  {
   "cell_type": "code",
   "execution_count": 4,
   "id": "relevant-stadium",
   "metadata": {
    "ExecuteTime": {
     "end_time": "2021-03-24T09:05:47.291182Z",
     "start_time": "2021-03-24T09:05:47.232950Z"
    }
   },
   "outputs": [],
   "source": [
    "def lines2ascii(file):\n",
    "    result = []\n",
    "    for line in file.readlines():\n",
    "        result.append(unicode2ascii(line).strip())\n",
    "    return result\n",
    "\n",
    "\n",
    "def read_data(root):\n",
    "    \"\"\"\n",
    "    读取名字和语言数据为一个字典\n",
    "    \"\"\"\n",
    "    result = {}\n",
    "    for file_name in os.listdir(root):\n",
    "        if str(file_name).endswith('.txt'):\n",
    "            lan = file_name.replace('.txt', '')\n",
    "            with open(os.path.join(root, file_name), encoding='UTF-8') as file:\n",
    "                result[lan] = lines2ascii(file)\n",
    "    return result\n",
    "\n",
    "\n",
    "data = read_data('./data/names')"
   ]
  },
  {
   "cell_type": "code",
   "execution_count": 5,
   "id": "hybrid-young",
   "metadata": {
    "ExecuteTime": {
     "end_time": "2021-03-24T09:05:47.294874Z",
     "start_time": "2021-03-24T09:05:47.292586Z"
    }
   },
   "outputs": [],
   "source": [
    "all_categories = list(data.keys())\n",
    "n_category = len(all_categories)"
   ]
  },
  {
   "cell_type": "markdown",
   "id": "quiet-biology",
   "metadata": {},
   "source": [
    "### 将字符数据映射为向量数据，使用one hot向量表示"
   ]
  },
  {
   "cell_type": "code",
   "execution_count": 6,
   "id": "threatened-married",
   "metadata": {
    "ExecuteTime": {
     "end_time": "2021-03-24T09:05:47.300566Z",
     "start_time": "2021-03-24T09:05:47.296492Z"
    }
   },
   "outputs": [
    {
     "name": "stdout",
     "output_type": "stream",
     "text": [
      "tensor([0., 0., 0., 1., 0., 0., 0., 0., 0., 0., 0., 0., 0., 0., 0., 0., 0., 0.,\n",
      "        0., 0., 0., 0., 0., 0., 0., 0., 0., 0., 0., 0., 0., 0., 0., 0., 0., 0.,\n",
      "        0., 0., 0., 0., 0., 0., 0., 0., 0., 0., 0., 0., 0., 0., 0., 0., 0., 0.,\n",
      "        0., 0., 0.])\n"
     ]
    }
   ],
   "source": [
    "def char2Vec(c):\n",
    "    \"\"\"\n",
    "    映射字符为向量数据，输入为字符，输出为宽度与 all_letters长度相同的向量\n",
    "    \"\"\"\n",
    "    vec = torch.zeros(len(all_letters))\n",
    "    vec[all_letters.index(c)] = 1\n",
    "    return vec\n",
    "print(char2Vec('d'))"
   ]
  },
  {
   "cell_type": "code",
   "execution_count": 7,
   "id": "marine-seattle",
   "metadata": {
    "ExecuteTime": {
     "end_time": "2021-03-24T09:05:47.307589Z",
     "start_time": "2021-03-24T09:05:47.303541Z"
    }
   },
   "outputs": [
    {
     "name": "stdout",
     "output_type": "stream",
     "text": [
      "tensor([[[1., 0., 0., 0., 0., 0., 0., 0., 0., 0., 0., 0., 0., 0., 0., 0., 0.,\n",
      "          0., 0., 0., 0., 0., 0., 0., 0., 0., 0., 0., 0., 0., 0., 0., 0., 0.,\n",
      "          0., 0., 0., 0., 0., 0., 0., 0., 0., 0., 0., 0., 0., 0., 0., 0., 0.,\n",
      "          0., 0., 0., 0., 0., 0.]],\n",
      "\n",
      "        [[0., 1., 0., 0., 0., 0., 0., 0., 0., 0., 0., 0., 0., 0., 0., 0., 0.,\n",
      "          0., 0., 0., 0., 0., 0., 0., 0., 0., 0., 0., 0., 0., 0., 0., 0., 0.,\n",
      "          0., 0., 0., 0., 0., 0., 0., 0., 0., 0., 0., 0., 0., 0., 0., 0., 0.,\n",
      "          0., 0., 0., 0., 0., 0.]]])\n"
     ]
    }
   ],
   "source": [
    "def str2Vec(name):\n",
    "    \"\"\"\n",
    "    将字符串转换为vec表示，形状为 len*1*n_letter\n",
    "    \"\"\"\n",
    "    vec = torch.zeros(len(name), 1, len(all_letters))\n",
    "    for i in range(len(name)):\n",
    "        vec[i][0][all_letters.index(name[i])] = 1\n",
    "    return vec\n",
    "\n",
    "\n",
    "print(str2Vec('ab'))"
   ]
  },
  {
   "cell_type": "markdown",
   "id": "virgin-connecticut",
   "metadata": {},
   "source": [
    "### 构建RNN"
   ]
  },
  {
   "cell_type": "code",
   "execution_count": 8,
   "id": "functional-sister",
   "metadata": {
    "ExecuteTime": {
     "end_time": "2021-03-24T09:05:47.311681Z",
     "start_time": "2021-03-24T09:05:47.309884Z"
    }
   },
   "outputs": [],
   "source": [
    "import torch.nn as nn"
   ]
  },
  {
   "cell_type": "code",
   "execution_count": 9,
   "id": "daily-leonard",
   "metadata": {
    "ExecuteTime": {
     "end_time": "2021-03-24T09:05:47.324079Z",
     "start_time": "2021-03-24T09:05:47.313098Z"
    }
   },
   "outputs": [],
   "source": [
    "class Rnn(nn.Module):\n",
    "    def __init__(self, input_size, hidden_size, output_size):\n",
    "        \"\"\"\n",
    "        自定义rnn运行所需的函数\n",
    "        \"\"\"\n",
    "        super(Rnn, self).__init__()\n",
    "\n",
    "        self.hidden_size = hidden_size\n",
    "\n",
    "        self.i2h = nn.Linear(input_size + hidden_size, hidden_size)\n",
    "        self.i2o = nn.Linear(input_size + hidden_size, output_size)\n",
    "\n",
    "        self.softmax = nn.Softmax(dim=1)\n",
    "\n",
    "    def forward(self, data, hidden):\n",
    "        \"\"\"\n",
    "        rnn运行的数据流，如何使用上述函数\n",
    "        \"\"\"\n",
    "        combine = torch.cat((data, hidden), 1)\n",
    "        new_hidden = self.i2h(combine)\n",
    "        output = self.i2o(combine)\n",
    "        output = self.softmax(output)\n",
    "        return output, hidden\n",
    "\n",
    "    def init_hidden(self):\n",
    "        return torch.randn(1, self.hidden_size)\n",
    "        \n",
    "\n",
    "n_hidden = 1024\n",
    "rnn = Rnn(n_letters, n_hidden, n_category)"
   ]
  },
  {
   "cell_type": "markdown",
   "id": "above-cargo",
   "metadata": {},
   "source": [
    "> 测试rnn运行单步\n"
   ]
  },
  {
   "cell_type": "code",
   "execution_count": 10,
   "id": "peripheral-tunisia",
   "metadata": {
    "ExecuteTime": {
     "end_time": "2021-03-24T09:05:47.331564Z",
     "start_time": "2021-03-24T09:05:47.325489Z"
    }
   },
   "outputs": [
    {
     "name": "stdout",
     "output_type": "stream",
     "text": [
      "tensor([[0.0908, 0.0155, 0.0785, 0.0221, 0.0850, 0.0431, 0.0631, 0.0163, 0.0978,\n",
      "         0.0631, 0.0411, 0.0217, 0.0412, 0.0272, 0.0306, 0.1626, 0.0692, 0.0311]],\n",
      "       grad_fn=<SoftmaxBackward>)\n"
     ]
    }
   ],
   "source": [
    "hidden = torch.randn(1, n_hidden)\n",
    "name = \"alex\"\n",
    "vec_name = str2Vec(name)\n",
    "output, new_hidden = rnn(vec_name[0], hidden)\n",
    "print(output)"
   ]
  },
  {
   "cell_type": "markdown",
   "id": "industrial-fault",
   "metadata": {},
   "source": [
    "###  训练网络"
   ]
  },
  {
   "cell_type": "code",
   "execution_count": 11,
   "id": "increasing-technician",
   "metadata": {
    "ExecuteTime": {
     "end_time": "2021-03-24T09:05:47.336306Z",
     "start_time": "2021-03-24T09:05:47.333148Z"
    }
   },
   "outputs": [
    {
     "name": "stdout",
     "output_type": "stream",
     "text": [
      "('Dutch', 15)\n"
     ]
    }
   ],
   "source": [
    "def get_category(output):\n",
    "    \"\"\"\n",
    "    获取最高概率的输出并转换为字符串\n",
    "    \"\"\"\n",
    "    top_n, top_i = output.topk(1)\n",
    "    category_i = top_i[0].item()\n",
    "    return all_categories[category_i], category_i\n",
    "\n",
    "print(get_category(output))\n"
   ]
  },
  {
   "cell_type": "code",
   "execution_count": 12,
   "id": "deadly-breeding",
   "metadata": {
    "ExecuteTime": {
     "end_time": "2021-03-24T09:05:47.339625Z",
     "start_time": "2021-03-24T09:05:47.337910Z"
    }
   },
   "outputs": [],
   "source": [
    "import random"
   ]
  },
  {
   "cell_type": "code",
   "execution_count": 26,
   "id": "little-berry",
   "metadata": {
    "ExecuteTime": {
     "end_time": "2021-03-24T09:12:27.698905Z",
     "start_time": "2021-03-24T09:12:27.692844Z"
    }
   },
   "outputs": [
    {
     "name": "stdout",
     "output_type": "stream",
     "text": [
      "(tensor([[[0., 0., 0., 0., 0., 0., 0., 0., 0., 0., 0., 0., 0., 0., 0., 0., 0.,\n",
      "          0., 0., 0., 0., 0., 0., 0., 0., 0., 0., 0., 0., 0., 0., 0., 0., 0.,\n",
      "          0., 0., 0., 0., 0., 0., 0., 0., 0., 0., 0., 0., 1., 0., 0., 0., 0.,\n",
      "          0., 0., 0., 0., 0., 0.]],\n",
      "\n",
      "        [[0., 0., 0., 0., 0., 0., 0., 0., 0., 0., 0., 0., 0., 1., 0., 0., 0.,\n",
      "          0., 0., 0., 0., 0., 0., 0., 0., 0., 0., 0., 0., 0., 0., 0., 0., 0.,\n",
      "          0., 0., 0., 0., 0., 0., 0., 0., 0., 0., 0., 0., 0., 0., 0., 0., 0.,\n",
      "          0., 0., 0., 0., 0., 0.]],\n",
      "\n",
      "        [[0., 0., 0., 0., 0., 0., 1., 0., 0., 0., 0., 0., 0., 0., 0., 0., 0.,\n",
      "          0., 0., 0., 0., 0., 0., 0., 0., 0., 0., 0., 0., 0., 0., 0., 0., 0.,\n",
      "          0., 0., 0., 0., 0., 0., 0., 0., 0., 0., 0., 0., 0., 0., 0., 0., 0.,\n",
      "          0., 0., 0., 0., 0., 0.]],\n",
      "\n",
      "        [[1., 0., 0., 0., 0., 0., 0., 0., 0., 0., 0., 0., 0., 0., 0., 0., 0.,\n",
      "          0., 0., 0., 0., 0., 0., 0., 0., 0., 0., 0., 0., 0., 0., 0., 0., 0.,\n",
      "          0., 0., 0., 0., 0., 0., 0., 0., 0., 0., 0., 0., 0., 0., 0., 0., 0.,\n",
      "          0., 0., 0., 0., 0., 0.]],\n",
      "\n",
      "        [[0., 0., 0., 0., 0., 0., 0., 0., 0., 0., 0., 0., 0., 0., 0., 0., 0.,\n",
      "          1., 0., 0., 0., 0., 0., 0., 0., 0., 0., 0., 0., 0., 0., 0., 0., 0.,\n",
      "          0., 0., 0., 0., 0., 0., 0., 0., 0., 0., 0., 0., 0., 0., 0., 0., 0.,\n",
      "          0., 0., 0., 0., 0., 0.]],\n",
      "\n",
      "        [[0., 0., 0., 0., 0., 0., 0., 0., 0., 0., 0., 0., 0., 0., 1., 0., 0.,\n",
      "          0., 0., 0., 0., 0., 0., 0., 0., 0., 0., 0., 0., 0., 0., 0., 0., 0.,\n",
      "          0., 0., 0., 0., 0., 0., 0., 0., 0., 0., 0., 0., 0., 0., 0., 0., 0.,\n",
      "          0., 0., 0., 0., 0., 0.]]]), tensor([12]))\n"
     ]
    }
   ],
   "source": [
    "def random_chioce(data):\n",
    "    \"\"\"\n",
    "    在列表中随机选择一个条目返回\n",
    "    \"\"\"\n",
    "    return data[random.randint(0, len(data)-1)]\n",
    "\n",
    "def get_vec_label(lan):\n",
    "    \"\"\"\n",
    "    将标签从语言转换为one hot向量\n",
    "    \"\"\"\n",
    "    vec = torch.tensor([all_categories.index(lan)], dtype=torch.long)\n",
    "    return vec\n",
    "\n",
    "def get_train_examples(train_data):\n",
    "    \"\"\"\n",
    "    在训练数据中随机选择1训练条目\n",
    "    \"\"\"\n",
    "   \n",
    "    lan = random_chioce(all_categories)\n",
    "    name = random_chioce(train_data[lan])\n",
    "    lan_vec = get_vec_label(lan)\n",
    "    name_vec = str2Vec(name)\n",
    "   \n",
    "    return name_vec, lan_vec\n",
    "\n",
    "print(get_train_examples(data))\n",
    "        "
   ]
  },
  {
   "cell_type": "code",
   "execution_count": 43,
   "id": "gentle-appraisal",
   "metadata": {
    "ExecuteTime": {
     "end_time": "2021-03-24T09:19:41.123705Z",
     "start_time": "2021-03-24T09:19:41.119229Z"
    }
   },
   "outputs": [],
   "source": [
    "loss_func = nn.NLLLoss()\n",
    "lr = 0.005\n",
    "\n",
    "def train_step(name_vec, lan_vec):\n",
    "    \"\"\"\n",
    "    单步训练，连续输入一串字符，更新梯度，并计算损失\n",
    "    \"\"\"\n",
    "    hidden = rnn.init_hidden()\n",
    "    \"梯度清零\"\n",
    "    rnn.zero_grad()\n",
    "    \n",
    "    \"调用rnn预测\"\n",
    "    for i in range(name_vec.size()[0]):\n",
    "        output, hidden = rnn(name_vec[i], hidden)\n",
    "    \n",
    "    print(output.size(), lan_vec.size())\n",
    "    \"计算损失\"\n",
    "    loss = loss_func(output, lan_vec)\n",
    "    \"从损失函数开始反向传播梯度\"\n",
    "    loss.backward()\n",
    "    \n",
    "    \"将rnn中的参数手动梯度下降\"\n",
    "    \n",
    "    for p in rnn.parameters():\n",
    "        print(p)\n",
    "        print(p.grad)\n",
    "        p.data.add_(-lr, p.grad.data)\n",
    "    \n",
    "    return output, loss.item()"
   ]
  },
  {
   "cell_type": "code",
   "execution_count": 44,
   "id": "portuguese-guard",
   "metadata": {
    "ExecuteTime": {
     "end_time": "2021-03-24T09:19:41.603183Z",
     "start_time": "2021-03-24T09:19:41.585729Z"
    }
   },
   "outputs": [
    {
     "name": "stdout",
     "output_type": "stream",
     "text": [
      "torch.Size([1, 18]) torch.Size([1])\n",
      "Parameter containing:\n",
      "tensor([[-0.0134, -0.0297, -0.0154,  ...,  0.0226,  0.0101,  0.0187],\n",
      "        [ 0.0064, -0.0042, -0.0105,  ...,  0.0272, -0.0218, -0.0253],\n",
      "        [-0.0288, -0.0109,  0.0280,  ...,  0.0197, -0.0279, -0.0293],\n",
      "        ...,\n",
      "        [-0.0277,  0.0126,  0.0142,  ..., -0.0190,  0.0076, -0.0218],\n",
      "        [-0.0115, -0.0189, -0.0292,  ...,  0.0169, -0.0303, -0.0064],\n",
      "        [-0.0022,  0.0206, -0.0143,  ...,  0.0225,  0.0254, -0.0160]],\n",
      "       requires_grad=True)\n",
      "None\n"
     ]
    },
    {
     "ename": "AttributeError",
     "evalue": "'NoneType' object has no attribute 'data'",
     "output_type": "error",
     "traceback": [
      "\u001b[0;31m---------------------------------------------------------------------------\u001b[0m",
      "\u001b[0;31mAttributeError\u001b[0m                            Traceback (most recent call last)",
      "\u001b[0;32m<ipython-input-44-0b4355b6c89f>\u001b[0m in \u001b[0;36m<module>\u001b[0;34m\u001b[0m\n\u001b[1;32m     26\u001b[0m             \u001b[0mcur_loss\u001b[0m \u001b[0;34m=\u001b[0m \u001b[0;36m0\u001b[0m\u001b[0;34m\u001b[0m\u001b[0;34m\u001b[0m\u001b[0m\n\u001b[1;32m     27\u001b[0m \u001b[0;34m\u001b[0m\u001b[0m\n\u001b[0;32m---> 28\u001b[0;31m \u001b[0mtrain\u001b[0m\u001b[0;34m(\u001b[0m\u001b[0;34m)\u001b[0m\u001b[0;34m\u001b[0m\u001b[0;34m\u001b[0m\u001b[0m\n\u001b[0m\u001b[1;32m     29\u001b[0m \u001b[0;34m\u001b[0m\u001b[0m\n\u001b[1;32m     30\u001b[0m \u001b[0;34m\u001b[0m\u001b[0m\n",
      "\u001b[0;32m<ipython-input-44-0b4355b6c89f>\u001b[0m in \u001b[0;36mtrain\u001b[0;34m()\u001b[0m\n\u001b[1;32m     15\u001b[0m         \u001b[0;34m\"获取数据并预测，计算loss， 梯度下降\"\u001b[0m\u001b[0;34m\u001b[0m\u001b[0;34m\u001b[0m\u001b[0m\n\u001b[1;32m     16\u001b[0m         \u001b[0mname_vec\u001b[0m\u001b[0;34m,\u001b[0m \u001b[0mlan_vec\u001b[0m \u001b[0;34m=\u001b[0m \u001b[0mget_train_examples\u001b[0m\u001b[0;34m(\u001b[0m\u001b[0mdata\u001b[0m\u001b[0;34m)\u001b[0m\u001b[0;34m\u001b[0m\u001b[0;34m\u001b[0m\u001b[0m\n\u001b[0;32m---> 17\u001b[0;31m         \u001b[0moutput\u001b[0m\u001b[0;34m,\u001b[0m \u001b[0mloss\u001b[0m \u001b[0;34m=\u001b[0m \u001b[0mtrain_step\u001b[0m\u001b[0;34m(\u001b[0m\u001b[0mname_vec\u001b[0m\u001b[0;34m,\u001b[0m \u001b[0mlan_vec\u001b[0m\u001b[0;34m)\u001b[0m\u001b[0;34m\u001b[0m\u001b[0;34m\u001b[0m\u001b[0m\n\u001b[0m\u001b[1;32m     18\u001b[0m         \u001b[0mcur_loss\u001b[0m \u001b[0;34m+=\u001b[0m \u001b[0mloss\u001b[0m\u001b[0;34m\u001b[0m\u001b[0;34m\u001b[0m\u001b[0m\n\u001b[1;32m     19\u001b[0m         \u001b[0;34m\"打印\"\u001b[0m\u001b[0;34m\u001b[0m\u001b[0;34m\u001b[0m\u001b[0m\n",
      "\u001b[0;32m<ipython-input-43-03477da77a4e>\u001b[0m in \u001b[0;36mtrain_step\u001b[0;34m(name_vec, lan_vec)\u001b[0m\n\u001b[1;32m     25\u001b[0m         \u001b[0mprint\u001b[0m\u001b[0;34m(\u001b[0m\u001b[0mp\u001b[0m\u001b[0;34m)\u001b[0m\u001b[0;34m\u001b[0m\u001b[0;34m\u001b[0m\u001b[0m\n\u001b[1;32m     26\u001b[0m         \u001b[0mprint\u001b[0m\u001b[0;34m(\u001b[0m\u001b[0mp\u001b[0m\u001b[0;34m.\u001b[0m\u001b[0mgrad\u001b[0m\u001b[0;34m)\u001b[0m\u001b[0;34m\u001b[0m\u001b[0;34m\u001b[0m\u001b[0m\n\u001b[0;32m---> 27\u001b[0;31m         \u001b[0mp\u001b[0m\u001b[0;34m.\u001b[0m\u001b[0mdata\u001b[0m\u001b[0;34m.\u001b[0m\u001b[0madd_\u001b[0m\u001b[0;34m(\u001b[0m\u001b[0;34m-\u001b[0m\u001b[0mlr\u001b[0m\u001b[0;34m,\u001b[0m \u001b[0mp\u001b[0m\u001b[0;34m.\u001b[0m\u001b[0mgrad\u001b[0m\u001b[0;34m.\u001b[0m\u001b[0mdata\u001b[0m\u001b[0;34m)\u001b[0m\u001b[0;34m\u001b[0m\u001b[0;34m\u001b[0m\u001b[0m\n\u001b[0m\u001b[1;32m     28\u001b[0m \u001b[0;34m\u001b[0m\u001b[0m\n\u001b[1;32m     29\u001b[0m     \u001b[0;32mreturn\u001b[0m \u001b[0moutput\u001b[0m\u001b[0;34m,\u001b[0m \u001b[0mloss\u001b[0m\u001b[0;34m.\u001b[0m\u001b[0mitem\u001b[0m\u001b[0;34m(\u001b[0m\u001b[0;34m)\u001b[0m\u001b[0;34m\u001b[0m\u001b[0;34m\u001b[0m\u001b[0m\n",
      "\u001b[0;31mAttributeError\u001b[0m: 'NoneType' object has no attribute 'data'"
     ]
    }
   ],
   "source": [
    "import time\n",
    "\n",
    "def train():\n",
    "    \"\"\"\n",
    "    训练rnn，并保存loss\n",
    "    \"\"\"\n",
    "    n_iters = 200000\n",
    "    plot_every = 1000\n",
    "    print_every = 5000\n",
    "    \n",
    "    all_losses = []\n",
    "    cur_loss = 0\n",
    "    start_time = time.time()\n",
    "    for i in range(n_iters):\n",
    "        \"获取数据并预测，计算loss， 梯度下降\"\n",
    "        name_vec, lan_vec = get_train_examples(data)\n",
    "        output, loss = train_step(name_vec, lan_vec)\n",
    "        cur_loss += loss\n",
    "        \"打印\"\n",
    "        if i % print_every == 0:    \n",
    "            print(time.time() - start_time)\n",
    "            print(\"   \")\n",
    "            print(loss)\n",
    "        if i % plot_every == 0:\n",
    "            all_losses.append(cur_loss / plot_every)\n",
    "            cur_loss = 0\n",
    "\n",
    "train()\n",
    "        \n",
    "        \n",
    "\n"
   ]
  },
  {
   "cell_type": "code",
   "execution_count": null,
   "id": "willing-vegetation",
   "metadata": {},
   "outputs": [],
   "source": []
  }
 ],
 "metadata": {
  "kernelspec": {
   "display_name": "Python 3",
   "language": "python",
   "name": "python3"
  },
  "language_info": {
   "codemirror_mode": {
    "name": "ipython",
    "version": 3
   },
   "file_extension": ".py",
   "mimetype": "text/x-python",
   "name": "python",
   "nbconvert_exporter": "python",
   "pygments_lexer": "ipython3",
   "version": "3.7.3"
  },
  "toc": {
   "base_numbering": 1,
   "nav_menu": {},
   "number_sections": true,
   "sideBar": true,
   "skip_h1_title": false,
   "title_cell": "Table of Contents",
   "title_sidebar": "Contents",
   "toc_cell": false,
   "toc_position": {},
   "toc_section_display": true,
   "toc_window_display": false
  },
  "varInspector": {
   "cols": {
    "lenName": 16,
    "lenType": 16,
    "lenVar": 40
   },
   "kernels_config": {
    "python": {
     "delete_cmd_postfix": "",
     "delete_cmd_prefix": "del ",
     "library": "var_list.py",
     "varRefreshCmd": "print(var_dic_list())"
    },
    "r": {
     "delete_cmd_postfix": ") ",
     "delete_cmd_prefix": "rm(",
     "library": "var_list.r",
     "varRefreshCmd": "cat(var_dic_list()) "
    }
   },
   "position": {
    "height": "270.5px",
    "left": "1553px",
    "right": "20px",
    "top": "130px",
    "width": "350px"
   },
   "types_to_exclude": [
    "module",
    "function",
    "builtin_function_or_method",
    "instance",
    "_Feature"
   ],
   "window_display": true
  }
 },
 "nbformat": 4,
 "nbformat_minor": 5
}
