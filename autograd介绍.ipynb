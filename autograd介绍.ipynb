{
 "cells": [
  {
   "cell_type": "code",
   "execution_count": 18,
   "id": "twelve-organ",
   "metadata": {},
   "outputs": [
    {
     "name": "stdout",
     "output_type": "stream",
     "text": [
      "cuda:0\n"
     ]
    }
   ],
   "source": [
    "import torch\n",
    "device = torch.device(\"cuda:0\" if torch.cuda.is_available() else \"cpu\")\n",
    "print(device)"
   ]
  },
  {
   "cell_type": "markdown",
   "id": "compound-donor",
   "metadata": {},
   "source": [
    "### pytorch中的自动求导和反向传播"
   ]
  },
  {
   "cell_type": "code",
   "execution_count": 19,
   "id": "suburban-driver",
   "metadata": {},
   "outputs": [],
   "source": [
    "import torchvision\n",
    "model = torchvision.models.resnet34(pretrained=True)  # 读取与训练model\n",
    "data = torch.rand(1, 3, 64, 64) # 随机生成图像数据\n",
    "labels = torch.rand(1, 1000)    # 随机生成label"
   ]
  },
  {
   "cell_type": "code",
   "execution_count": 20,
   "id": "ecological-tyler",
   "metadata": {},
   "outputs": [
    {
     "name": "stdout",
     "output_type": "stream",
     "text": [
      "torch.Size([1, 1000])\n"
     ]
    }
   ],
   "source": [
    "prediction = model(data)           # 使用model预测data\n",
    "print(prediction.shape)"
   ]
  },
  {
   "cell_type": "code",
   "execution_count": 21,
   "id": "friendly-farming",
   "metadata": {},
   "outputs": [
    {
     "name": "stdout",
     "output_type": "stream",
     "text": [
      "tensor(-488.7442, grad_fn=<SumBackward0>)\n",
      "None\n"
     ]
    },
    {
     "name": "stderr",
     "output_type": "stream",
     "text": [
      "c:\\users\\lihaiyang\\.conda\\envs\\pytorch\\lib\\site-packages\\ipykernel_launcher.py:4: UserWarning: The .grad attribute of a Tensor that is not a leaf Tensor is being accessed. Its .grad attribute won't be populated during autograd.backward(). If you indeed want the gradient for a non-leaf Tensor, use .retain_grad() on the non-leaf Tensor. If you access the non-leaf Tensor by mistake, make sure you access the leaf Tensor instead. See github.com/pytorch/pytorch/pull/30531 for more informations.\n",
      "  after removing the cwd from sys.path.\n"
     ]
    }
   ],
   "source": [
    "loss = (prediction - labels).sum()        # 设定loss\n",
    "print(loss)\n",
    "loss.backward()          # loss反向传播\n",
    "print(loss.grad)"
   ]
  },
  {
   "cell_type": "code",
   "execution_count": 22,
   "id": "armed-arizona",
   "metadata": {},
   "outputs": [],
   "source": [
    "optim = torch.optim.SGD(model.parameters(), lr=0.01, )     # 创建优化器\n",
    "optim.step()          # 进行优化，调整模型参数"
   ]
  },
  {
   "cell_type": "code",
   "execution_count": 23,
   "id": "moral-simpson",
   "metadata": {},
   "outputs": [
    {
     "name": "stdout",
     "output_type": "stream",
     "text": [
      "tensor(-4381.4731, grad_fn=<SumBackward0>)\n"
     ]
    }
   ],
   "source": [
    "prediction = model(data)         # 重新预测data\n",
    "loss = (prediction - labels).sum()\n",
    "print(loss)"
   ]
  },
  {
   "cell_type": "markdown",
   "id": "aging-inspiration",
   "metadata": {},
   "source": [
    "###  探索pytorch中的自动求导过程"
   ]
  },
  {
   "cell_type": "markdown",
   "id": "rocky-video",
   "metadata": {},
   "source": [
    "#### 1. 创建一个多级的函数调用，初始化器参数"
   ]
  },
  {
   "cell_type": "code",
   "execution_count": 32,
   "id": "promising-treatment",
   "metadata": {},
   "outputs": [],
   "source": [
    "a0 = torch.tensor([1.,2.,3.,], requires_grad=True)\n",
    "a0.retain_grad()\n",
    "a1 = a0**2\n",
    "a1.retain_grad()\n",
    "b1 = torch.tensor([5.,6.,4.,], requires_grad=True)\n",
    "b1.retain_grad()\n",
    "Q = a1**3 - b1**2"
   ]
  },
  {
   "cell_type": "markdown",
   "id": "conservative-price",
   "metadata": {},
   "source": [
    "#### 2. 梯度的计算\n",
    "梯度的计算使用链式法则，即使用Q的梯度计算a1， b1梯度，然后计算a0梯度，分别存储在对应的tensor中的`.grad`参数中\n",
    "因为Q是计算的开始，需要手工传递梯度`[1,1,1]`"
   ]
  },
  {
   "cell_type": "code",
   "execution_count": 33,
   "id": "quantitative-tampa",
   "metadata": {},
   "outputs": [],
   "source": [
    "Q.backward(torch.ones_like(Q))"
   ]
  },
  {
   "cell_type": "code",
   "execution_count": 34,
   "id": "sought-campbell",
   "metadata": {},
   "outputs": [
    {
     "name": "stdout",
     "output_type": "stream",
     "text": [
      "tensor([  3.,  48., 243.])\n",
      "tensor([True, True, True])\n",
      "tensor([-10., -12.,  -8.])\n",
      "tensor([True, True, True])\n",
      "tensor([   6.,  192., 1458.])\n",
      "tensor([True, True, True])\n"
     ]
    }
   ],
   "source": [
    "print(a1.grad)\n",
    "print(3*a1**2 == a1.grad)\n",
    "print(b1.grad)\n",
    "print(-2*b1 == b1.grad)\n",
    "print(a0.grad)\n",
    "print(3*a1**2*2*a0 == a0.grad)"
   ]
  },
  {
   "cell_type": "code",
   "execution_count": null,
   "id": "complete-samoa",
   "metadata": {},
   "outputs": [],
   "source": []
  }
 ],
 "metadata": {
  "kernelspec": {
   "display_name": "Python 3",
   "language": "python",
   "name": "python3"
  },
  "language_info": {
   "codemirror_mode": {
    "name": "ipython",
    "version": 3
   },
   "file_extension": ".py",
   "mimetype": "text/x-python",
   "name": "python",
   "nbconvert_exporter": "python",
   "pygments_lexer": "ipython3",
   "version": "3.7.3"
  },
  "toc": {
   "base_numbering": 1,
   "nav_menu": {},
   "number_sections": true,
   "sideBar": true,
   "skip_h1_title": false,
   "title_cell": "Table of Contents",
   "title_sidebar": "Contents",
   "toc_cell": false,
   "toc_position": {},
   "toc_section_display": true,
   "toc_window_display": false
  },
  "varInspector": {
   "cols": {
    "lenName": 16,
    "lenType": 16,
    "lenVar": 40
   },
   "kernels_config": {
    "python": {
     "delete_cmd_postfix": "",
     "delete_cmd_prefix": "del ",
     "library": "var_list.py",
     "varRefreshCmd": "print(var_dic_list())"
    },
    "r": {
     "delete_cmd_postfix": ") ",
     "delete_cmd_prefix": "rm(",
     "library": "var_list.r",
     "varRefreshCmd": "cat(var_dic_list()) "
    }
   },
   "types_to_exclude": [
    "module",
    "function",
    "builtin_function_or_method",
    "instance",
    "_Feature"
   ],
   "window_display": false
  }
 },
 "nbformat": 4,
 "nbformat_minor": 5
}
