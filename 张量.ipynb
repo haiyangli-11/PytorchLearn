{
 "cells": [
  {
   "cell_type": "markdown",
   "id": "noted-catalyst",
   "metadata": {},
   "source": [
    "## 张量练习"
   ]
  },
  {
   "cell_type": "code",
   "execution_count": 2,
   "id": "tender-basket",
   "metadata": {},
   "outputs": [],
   "source": [
    "import torch\n",
    "import numpy as np"
   ]
  },
  {
   "cell_type": "markdown",
   "id": "private-bracket",
   "metadata": {},
   "source": [
    "### 1. 从列表直接生成张量"
   ]
  },
  {
   "cell_type": "code",
   "execution_count": 4,
   "id": "incorporate-baking",
   "metadata": {},
   "outputs": [
    {
     "name": "stdout",
     "output_type": "stream",
     "text": [
      "tensor([[1, 2, 3],\n",
      "        [2, 3, 4],\n",
      "        [3, 4, 5]]) <class 'torch.Tensor'>\n"
     ]
    }
   ],
   "source": [
    "x = [[1,2,3],[2,3,4],[3,4,5]]\n",
    "x_t = torch.tensor(x)\n",
    "print(x_t, type(x_t))"
   ]
  },
  {
   "cell_type": "markdown",
   "id": "centered-malta",
   "metadata": {},
   "source": [
    "### 2. 通过numpy数组生成张量"
   ]
  },
  {
   "cell_type": "code",
   "execution_count": 5,
   "id": "first-latest",
   "metadata": {},
   "outputs": [
    {
     "name": "stdout",
     "output_type": "stream",
     "text": [
      "tensor([[1, 2, 3],\n",
      "        [2, 3, 4],\n",
      "        [3, 4, 5]]) <class 'torch.Tensor'>\n"
     ]
    }
   ],
   "source": [
    "nd_array = np.array(x)\n",
    "nd_tensor = torch.from_numpy(nd_array)\n",
    "print(nd_tensor, type(nd_tensor))"
   ]
  },
  {
   "cell_type": "markdown",
   "id": "practical-collins",
   "metadata": {},
   "source": [
    "### 3. 从已有张量生成新的张量"
   ]
  },
  {
   "cell_type": "code",
   "execution_count": 6,
   "id": "suitable-technology",
   "metadata": {},
   "outputs": [
    {
     "name": "stdout",
     "output_type": "stream",
     "text": [
      "tensor([[1., 1., 1.],\n",
      "        [1., 1., 1.],\n",
      "        [1., 1., 1.]])\n",
      "tensor([[1, 2, 3],\n",
      "        [2, 3, 4],\n",
      "        [3, 4, 5]])\n"
     ]
    }
   ],
   "source": [
    "y_t = torch.ones_like(x_t, dtype=torch.float32)\n",
    "print(y_t)\n",
    "z_t = torch.rand_like(x_t, dtype=torch.float32)\n",
    "print(x_t)\n",
    "h_t = torch."
   ]
  },
  {
   "cell_type": "code",
   "execution_count": null,
   "id": "handled-monitor",
   "metadata": {},
   "outputs": [],
   "source": []
  }
 ],
 "metadata": {
  "kernelspec": {
   "display_name": "Python 3",
   "language": "python",
   "name": "python3"
  },
  "language_info": {
   "codemirror_mode": {
    "name": "ipython",
    "version": 3
   },
   "file_extension": ".py",
   "mimetype": "text/x-python",
   "name": "python",
   "nbconvert_exporter": "python",
   "pygments_lexer": "ipython3",
   "version": "3.7.3"
  }
 },
 "nbformat": 4,
 "nbformat_minor": 5
}
