{
 "cells": [
  {
   "cell_type": "markdown",
   "id": "noted-catalyst",
   "metadata": {},
   "source": [
    "## 张量练习"
   ]
  },
  {
   "cell_type": "code",
   "execution_count": 1,
   "id": "tender-basket",
   "metadata": {},
   "outputs": [],
   "source": [
    "import torch\n",
    "import numpy as np"
   ]
  },
  {
   "cell_type": "markdown",
   "id": "private-bracket",
   "metadata": {},
   "source": [
    "## 张量的生成\n",
    "### 1. 从列表直接生成张量"
   ]
  },
  {
   "cell_type": "code",
   "execution_count": 2,
   "id": "incorporate-baking",
   "metadata": {},
   "outputs": [
    {
     "name": "stdout",
     "output_type": "stream",
     "text": [
      "tensor([[1, 2, 3],\n",
      "        [2, 3, 4],\n",
      "        [3, 4, 5]]) <class 'torch.Tensor'>\n"
     ]
    }
   ],
   "source": [
    "x = [[1,2,3],[2,3,4],[3,4,5]]\n",
    "x_t = torch.tensor(x)\n",
    "print(x_t, type(x_t))"
   ]
  },
  {
   "cell_type": "markdown",
   "id": "centered-malta",
   "metadata": {},
   "source": [
    "### 2. 通过numpy数组生成张量"
   ]
  },
  {
   "cell_type": "code",
   "execution_count": 3,
   "id": "first-latest",
   "metadata": {},
   "outputs": [
    {
     "name": "stdout",
     "output_type": "stream",
     "text": [
      "tensor([[1, 2, 3],\n",
      "        [2, 3, 4],\n",
      "        [3, 4, 5]], dtype=torch.int32) <class 'torch.Tensor'>\n"
     ]
    }
   ],
   "source": [
    "nd_array = np.array(x)\n",
    "nd_tensor = torch.from_numpy(nd_array)\n",
    "print(nd_tensor, type(nd_tensor))"
   ]
  },
  {
   "cell_type": "markdown",
   "id": "practical-collins",
   "metadata": {},
   "source": [
    "### 3. 从已有张量生成新的张量"
   ]
  },
  {
   "cell_type": "code",
   "execution_count": 7,
   "id": "suitable-technology",
   "metadata": {},
   "outputs": [
    {
     "name": "stdout",
     "output_type": "stream",
     "text": [
      "tensor([[1., 1., 1.],\n",
      "        [1., 1., 1.],\n",
      "        [1., 1., 1.]])\n",
      "tensor([[1, 2, 3],\n",
      "        [2, 3, 4],\n",
      "        [3, 4, 5]])\n"
     ]
    }
   ],
   "source": [
    "# ons_like: 全1的张量\n",
    "# randn_like: 随机张量\n",
    "# zero_like: 全0张量\n",
    "y_t = torch.ones_like(x_t, dtype=torch.float32)\n",
    "print(y_t)\n",
    "z_t = torch.rand_like(x_t, dtype=torch.float32)\n",
    "print(x_t)"
   ]
  },
  {
   "cell_type": "markdown",
   "id": "collaborative-second",
   "metadata": {},
   "source": [
    "### 4. 指定张量形状"
   ]
  },
  {
   "cell_type": "code",
   "execution_count": 8,
   "id": "meaning-world",
   "metadata": {},
   "outputs": [
    {
     "name": "stdout",
     "output_type": "stream",
     "text": [
      "tensor([[[6, 9],\n",
      "         [9, 4],\n",
      "         [6, 8]],\n",
      "\n",
      "        [[4, 2],\n",
      "         [1, 4],\n",
      "         [3, 7]]])\n",
      "tensor([[[-0.7264,  0.0824],\n",
      "         [-0.6292,  1.6502],\n",
      "         [-1.5764, -0.5806]],\n",
      "\n",
      "        [[-0.5095, -2.4726],\n",
      "         [ 1.0115,  0.3893],\n",
      "         [ 0.1609,  0.8710]]])\n"
     ]
    }
   ],
   "source": [
    "# ones, zeros, randn...\n",
    "shape = (2,3,2)\n",
    "shape_t1 = torch.randint(low=0, high=10, size=shape)\n",
    "shape_t2 = torch.randn(size=shape)\n",
    "print(shape_t1)\n",
    "print(shape_t2)"
   ]
  },
  {
   "cell_type": "markdown",
   "id": "underlying-customs",
   "metadata": {},
   "source": [
    "## 张量的属性：形状，运算设备，等等"
   ]
  },
  {
   "cell_type": "code",
   "execution_count": 9,
   "id": "undefined-composition",
   "metadata": {},
   "outputs": [
    {
     "name": "stdout",
     "output_type": "stream",
     "text": [
      "cpu\n",
      "torch.Size([2, 3, 2])\n",
      "torch.int64\n"
     ]
    }
   ],
   "source": [
    "print(shape_t1.device)\n",
    "print(shape_t1.shape)\n",
    "print(shape_t1.dtype)"
   ]
  },
  {
   "cell_type": "markdown",
   "id": "boring-flavor",
   "metadata": {},
   "source": [
    "### 判断cuda可用"
   ]
  },
  {
   "cell_type": "code",
   "execution_count": 10,
   "id": "lasting-burns",
   "metadata": {},
   "outputs": [
    {
     "name": "stdout",
     "output_type": "stream",
     "text": [
      "True\n"
     ]
    }
   ],
   "source": [
    "print(torch.cuda.is_available())"
   ]
  },
  {
   "cell_type": "markdown",
   "id": "blind-incentive",
   "metadata": {},
   "source": [
    "## 张量运算\n",
    "### 切片, 拼接，矩阵乘法，自动赋值"
   ]
  },
  {
   "cell_type": "code",
   "execution_count": 22,
   "id": "interior-depth",
   "metadata": {},
   "outputs": [
    {
     "name": "stdout",
     "output_type": "stream",
     "text": [
      "tensor([[ 1.,  1., -3.],\n",
      "        [ 1.,  1., -3.],\n",
      "        [ 1.,  1., -3.]], device='cuda:0')\n"
     ]
    }
   ],
   "source": [
    "cal_t = torch.ones((3,3),dtype=torch.float32).to('cuda')\n",
    "cal_t[:, 2] = -3\n",
    "print(cal_t)"
   ]
  },
  {
   "cell_type": "code",
   "execution_count": 23,
   "id": "attempted-facing",
   "metadata": {},
   "outputs": [
    {
     "name": "stdout",
     "output_type": "stream",
     "text": [
      "tensor([[ 1.,  1., -3.],\n",
      "        [ 1.,  1., -3.],\n",
      "        [ 1.,  1., -3.],\n",
      "        [ 1.,  1., -3.],\n",
      "        [ 1.,  1., -3.],\n",
      "        [ 1.,  1., -3.],\n",
      "        [ 1.,  1., -3.],\n",
      "        [ 1.,  1., -3.],\n",
      "        [ 1.,  1., -3.]], device='cuda:0')\n"
     ]
    }
   ],
   "source": [
    "cal_t1 = torch.cat([cal_t, cal_t, cal_t], dim=0)\n",
    "print(cal_t1)"
   ]
  },
  {
   "cell_type": "code",
   "execution_count": 24,
   "id": "israeli-delhi",
   "metadata": {},
   "outputs": [
    {
     "name": "stdout",
     "output_type": "stream",
     "text": [
      "tensor([[1., 1., 9.],\n",
      "        [1., 1., 9.],\n",
      "        [1., 1., 9.]], device='cuda:0')\n"
     ]
    }
   ],
   "source": [
    "cal_t2 = torch.mul(cal_t, cal_t)\n",
    "print(cal_t2)"
   ]
  },
  {
   "cell_type": "code",
   "execution_count": 25,
   "id": "requested-franklin",
   "metadata": {},
   "outputs": [
    {
     "name": "stdout",
     "output_type": "stream",
     "text": [
      "tensor([[ 1.,  1., -3.],\n",
      "        [10., 10.,  6.],\n",
      "        [ 1.,  1., -3.]], device='cuda:0')\n"
     ]
    }
   ],
   "source": [
    "cal_t3 = cal_t[1, :].add_(9)\n",
    "print(cal_t)"
   ]
  },
  {
   "cell_type": "code",
   "execution_count": null,
   "id": "cross-eugene",
   "metadata": {},
   "outputs": [],
   "source": []
  }
 ],
 "metadata": {
  "kernelspec": {
   "display_name": "Python 3",
   "language": "python",
   "name": "python3"
  },
  "language_info": {
   "codemirror_mode": {
    "name": "ipython",
    "version": 3
   },
   "file_extension": ".py",
   "mimetype": "text/x-python",
   "name": "python",
   "nbconvert_exporter": "python",
   "pygments_lexer": "ipython3",
   "version": "3.7.9"
  }
 },
 "nbformat": 4,
 "nbformat_minor": 5
}
